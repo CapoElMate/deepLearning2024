{
  "cells": [
    {
      "cell_type": "markdown",
      "metadata": {
        "id": "AhZK7OLb2Bp6"
      },
      "source": [
        "## Introduccion a python"
      ]
    },
    {
      "cell_type": "markdown",
      "metadata": {
        "id": "l4wRiDTsB-82"
      },
      "source": [
        "### Experimente la ejecución de varios comandos del sistema operativo a través de celdas de código\n"
      ]
    },
    {
      "cell_type": "code",
      "execution_count": null,
      "metadata": {
        "colab": {
          "base_uri": "https://localhost:8080/"
        },
        "id": "xkgr3QvVBcRn",
        "outputId": "50c27f91-d3cc-4cb8-e8e6-859c6104bef5"
      },
      "outputs": [
        {
          "ename": "",
          "evalue": "",
          "output_type": "error",
          "traceback": [
            "\u001b[1;31mRunning cells with 'Python 3.12.4' requires the ipykernel package.\n",
            "\u001b[1;31mRun the following command to install 'ipykernel' into the Python environment. \n",
            "\u001b[1;31mCommand: '/bin/python -m pip install ipykernel -U --user --force-reinstall'"
          ]
        }
      ],
      "source": [
        "!python --version"
      ]
    },
    {
      "cell_type": "markdown",
      "metadata": {
        "id": "Ndnx1uf5CgKw"
      },
      "source": [
        "### Abrir archivo del drive\n",
        "\n"
      ]
    },
    {
      "cell_type": "code",
      "execution_count": null,
      "metadata": {
        "colab": {
          "base_uri": "https://localhost:8080/"
        },
        "id": "oNjTO2VlErQh",
        "outputId": "ff95fa13-12ed-4ff8-e373-c63f679330c7"
      },
      "outputs": [
        {
          "ename": "",
          "evalue": "",
          "output_type": "error",
          "traceback": [
            "\u001b[1;31mRunning cells with 'Python 3.12.4' requires the ipykernel package.\n",
            "\u001b[1;31mRun the following command to install 'ipykernel' into the Python environment. \n",
            "\u001b[1;31mCommand: '/bin/python -m pip install ipykernel -U --user --force-reinstall'"
          ]
        }
      ],
      "source": [
        "from google.colab import drive\n",
        "drive.mount('/gdrive/')"
      ]
    },
    {
      "cell_type": "code",
      "execution_count": null,
      "metadata": {
        "colab": {
          "base_uri": "https://localhost:8080/"
        },
        "id": "5ew7VsxRE_rU",
        "outputId": "c45f9828-293e-46d2-e245-de3d6e43d313"
      },
      "outputs": [
        {
          "ename": "",
          "evalue": "",
          "output_type": "error",
          "traceback": [
            "\u001b[1;31mRunning cells with 'Python 3.12.4' requires the ipykernel package.\n",
            "\u001b[1;31mRun the following command to install 'ipykernel' into the Python environment. \n",
            "\u001b[1;31mCommand: '/bin/python -m pip install ipykernel -U --user --force-reinstall'"
          ]
        }
      ],
      "source": [
        "!ls /gdrive/MyDrive #compruebo la direccion del archivo"
      ]
    },
    {
      "cell_type": "code",
      "execution_count": null,
      "metadata": {
        "colab": {
          "base_uri": "https://localhost:8080/"
        },
        "id": "lsj6fmgVDS8H",
        "outputId": "1b886b01-386c-4f70-d31e-030ba9d7d99c"
      },
      "outputs": [
        {
          "ename": "",
          "evalue": "",
          "output_type": "error",
          "traceback": [
            "\u001b[1;31mRunning cells with 'Python 3.12.4' requires the ipykernel package.\n",
            "\u001b[1;31mRun the following command to install 'ipykernel' into the Python environment. \n",
            "\u001b[1;31mCommand: '/bin/python -m pip install ipykernel -U --user --force-reinstall'"
          ]
        }
      ],
      "source": [
        "\n",
        "ruta = '/gdrive/MyDrive/txt.txt'\n",
        "f = open(ruta,'r')\n",
        "print(f.readlines())\n",
        "f.close()\n"
      ]
    },
    {
      "cell_type": "markdown",
      "metadata": {
        "id": "RXcyBqEpGBgM"
      },
      "source": [
        "genere el archivo y guardenlo en drive:\n"
      ]
    },
    {
      "cell_type": "code",
      "execution_count": null,
      "metadata": {
        "id": "qJlK7WquGFjY"
      },
      "outputs": [
        {
          "ename": "",
          "evalue": "",
          "output_type": "error",
          "traceback": [
            "\u001b[1;31mRunning cells with 'Python 3.12.4' requires the ipykernel package.\n",
            "\u001b[1;31mRun the following command to install 'ipykernel' into the Python environment. \n",
            "\u001b[1;31mCommand: '/bin/python -m pip install ipykernel -U --user --force-reinstall'"
          ]
        }
      ],
      "source": [
        "ruta_arch = '/gdrive/MyDrive/archivoGenerado.txt' # ruta y nombre a archivo a ESCRIBIR en su drive\n",
        "f = open(ruta_arch, 'w') # abre archivo para escribir\n",
        "texto = 'Esta es una linea de texto\\nEsta es otra línea de text'\n",
        "f.writelines(texto) # escribe contenido en archivo\n",
        "f.close() # cierra archivos"
      ]
    },
    {
      "cell_type": "markdown",
      "metadata": {
        "id": "VMVJxaLSGs_l"
      },
      "source": [
        "### Ejercicio 1\n",
        "Investigue/repase que son las listas, tuplas, conjuntos y diccionarios nativos de Python (puede consultar https://www.youtube.com/watch?v=CCUNuqqn7PQ). Utilizando los constructores para cada tipo de dato genere códigos de ejemplo y recórralos imprimiendo sus valores.\n"
      ]
    },
    {
      "cell_type": "code",
      "execution_count": null,
      "metadata": {
        "colab": {
          "base_uri": "https://localhost:8080/"
        },
        "collapsed": true,
        "id": "qMG0HPtjGzo9",
        "outputId": "9fb2ea9a-578b-457a-c476-0cad61789e9a"
      },
      "outputs": [
        {
          "ename": "",
          "evalue": "",
          "output_type": "error",
          "traceback": [
            "\u001b[1;31mRunning cells with 'Python 3.12.4' requires the ipykernel package.\n",
            "\u001b[1;31mRun the following command to install 'ipykernel' into the Python environment. \n",
            "\u001b[1;31mCommand: '/bin/python -m pip install ipykernel -U --user --force-reinstall'"
          ]
        }
      ],
      "source": [
        "#Listas:\n",
        "lista = [3,2,1,4]\n",
        "\n",
        "#for e in lista:\n",
        "#  print(e,end='')\n",
        "\n",
        "print(lista)\n",
        "\n",
        "print(\"ordenada:\" , end='')\n",
        "lista.sort()  #ordeno la lista\n",
        "\n",
        "print(lista)\n",
        "\n",
        "lista2 = [5,6,7,8]            #creo una nueva lista\n",
        "listaConcat = lista + lista2  #las concateno\n",
        "\n",
        "print(listaConcat)            #imprimo la lista concatenada\n",
        "print(listaConcat[0:-1:2])    #imprimo la lista concatenada salteandome de a 1\n",
        "\n",
        "print('esta el 4 en la lista 1? ', 4 in lista)  #esta el 4 en la lista 1?\n",
        "print('esta el 4 en la lista 2? ', 4 in lista2) #esta el 4 en la lista 2?\n",
        "\n",
        "\n"
      ]
    },
    {
      "cell_type": "code",
      "execution_count": null,
      "metadata": {
        "colab": {
          "base_uri": "https://localhost:8080/"
        },
        "id": "g-q-7oiRKAXX",
        "outputId": "a5ca47b8-2870-4453-9c86-2b50206fe0e0"
      },
      "outputs": [
        {
          "ename": "",
          "evalue": "",
          "output_type": "error",
          "traceback": [
            "\u001b[1;31mRunning cells with 'Python 3.12.4' requires the ipykernel package.\n",
            "\u001b[1;31mRun the following command to install 'ipykernel' into the Python environment. \n",
            "\u001b[1;31mCommand: '/bin/python -m pip install ipykernel -U --user --force-reinstall'"
          ]
        }
      ],
      "source": [
        "#tuplas (listas inmutables)\n",
        "#se define entre parentesis, en diferencia de los corchetes de las listas\n",
        "tupla = (1,2,3)\n",
        "lista = [1,2,3]\n",
        "\n",
        "print(tupla)\n",
        "print(lista)\n",
        "print(\" \")\n",
        "\n",
        "#pero si quiero modificar un elemento:\n",
        "#tupla[1] = 0 #sale un error aca\n",
        "lista[1] = 0\n",
        "\n",
        "print(tupla)\n",
        "print(lista)\n"
      ]
    },
    {
      "cell_type": "code",
      "execution_count": null,
      "metadata": {
        "colab": {
          "base_uri": "https://localhost:8080/"
        },
        "id": "5GXu-GJwK7g3",
        "outputId": "15d32ddd-8fc4-4f5d-97c6-f52e45582ee6"
      },
      "outputs": [
        {
          "ename": "",
          "evalue": "",
          "output_type": "error",
          "traceback": [
            "\u001b[1;31mRunning cells with 'Python 3.12.4' requires the ipykernel package.\n",
            "\u001b[1;31mRun the following command to install 'ipykernel' into the Python environment. \n",
            "\u001b[1;31mCommand: '/bin/python -m pip install ipykernel -U --user --force-reinstall'"
          ]
        }
      ],
      "source": [
        "#Sring\n",
        "\n",
        "frase = \"esto es string\"\n",
        "print(frase)\n",
        "print(\"\")\n",
        "print(\"puedo usar operaciones de colecciones en string: \")\n",
        "print(\"largo:\",len(frase))\n",
        "print(\"primer elemento:\",frase[0])\n",
        "print(\"contiene una a:\",'a' in frase)\n",
        "print(\"contiene una e:\",'e' in frase)\n",
        "\n",
        "print(\"python trata a las frases como string: \", type(frase))\n",
        "print(\"pero tambien a los elementos individuales:\", type(frase[0]))\n",
        "\n",
        "frase.upper()\n",
        "print(frase, \"(no cambia el upper)\")\n",
        "\n",
        "print(frase.upper(), \"(cambia)\")\n",
        "\n"
      ]
    },
    {
      "cell_type": "code",
      "execution_count": null,
      "metadata": {
        "colab": {
          "base_uri": "https://localhost:8080/"
        },
        "id": "cr5ZAATSM5RJ",
        "outputId": "b2d9de66-3487-4eb1-ccf4-d952dce62619"
      },
      "outputs": [
        {
          "ename": "",
          "evalue": "",
          "output_type": "error",
          "traceback": [
            "\u001b[1;31mRunning cells with 'Python 3.12.4' requires the ipykernel package.\n",
            "\u001b[1;31mRun the following command to install 'ipykernel' into the Python environment. \n",
            "\u001b[1;31mCommand: '/bin/python -m pip install ipykernel -U --user --force-reinstall'"
          ]
        }
      ],
      "source": [
        "#sets: representa conjuntos matematicos, no importa el orden de elementos , no puede tener elementos duplicados\n",
        "set1 = set([1,2,3,4,5,6,7,8,9,10])\n",
        "set2 = set([0,2,4,6,8,10,12,14,16,18,20])\n",
        "\n",
        "set1.add(1) #no se añade, si fuera una lista se veria dos veces\n",
        "\n",
        "print(set1)\n",
        "print(set2)\n",
        "\n",
        "#el set se puede usar para hacer operaciones de conjuntos\n",
        "\n",
        "print(\"todo lo que esta en 1 que no esta en 2 (diferencia)\",set1-set2)\n",
        "print(\"lo que tienen en comun 1 y 2(interseccion)\",set2 & set1)\n",
        "print(\"todo lo que esta en 1 y 2(interseccion)\",set2 | set1)\n",
        "\n"
      ]
    },
    {
      "cell_type": "code",
      "execution_count": null,
      "metadata": {
        "colab": {
          "base_uri": "https://localhost:8080/"
        },
        "id": "cZlALy4wPqQm",
        "outputId": "3ebb056f-c1e8-43a4-bbc6-a145047e03c7"
      },
      "outputs": [
        {
          "ename": "",
          "evalue": "",
          "output_type": "error",
          "traceback": [
            "\u001b[1;31mRunning cells with 'Python 3.12.4' requires the ipykernel package.\n",
            "\u001b[1;31mRun the following command to install 'ipykernel' into the Python environment. \n",
            "\u001b[1;31mCommand: '/bin/python -m pip install ipykernel -U --user --force-reinstall'"
          ]
        }
      ],
      "source": [
        "#diccionario\n",
        "#·no importa el orden de los elementos· accedemos a sus elementos con su key\n",
        "\n",
        "        # {llave   : valor}\n",
        "persona = {\"nombre\":\"juan\", \"edad\":30 , \"apellido\" : \"perez\"}\n",
        "\n",
        "#puedo acceder a sus elementos usando su key o palabra clave\n",
        "print(persona[\"nombre\"],end=' ,')\n",
        "print(persona[\"apellido\"],end=' ,')\n",
        "print(persona[\"edad\"])\n",
        "\n",
        "print(len(persona))\n",
        "print(\"juan\" in persona) #da false porque busca por key , no por elemento\n",
        "print(\"nombre\" in persona) #da false porque busca por key , no por elemento\n"
      ]
    },
    {
      "cell_type": "markdown",
      "metadata": {
        "id": "RR3InxVzRDV1"
      },
      "source": [
        "### Ejercicio 2\n",
        "Genere el código necesario para recorrer simultáneamente 2 listas con la misma cantidad de elementos e imprima los mismos utilizando un único for (tip: función zip).\n",
        "\n"
      ]
    },
    {
      "cell_type": "code",
      "execution_count": null,
      "metadata": {
        "colab": {
          "base_uri": "https://localhost:8080/"
        },
        "id": "mCpFbwuKRcHf",
        "outputId": "b25140e0-b453-4d22-f510-47bccd7c5b82"
      },
      "outputs": [
        {
          "ename": "",
          "evalue": "",
          "output_type": "error",
          "traceback": [
            "\u001b[1;31mRunning cells with 'Python 3.12.4' requires the ipykernel package.\n",
            "\u001b[1;31mRun the following command to install 'ipykernel' into the Python environment. \n",
            "\u001b[1;31mCommand: '/bin/python -m pip install ipykernel -U --user --force-reinstall'"
          ]
        }
      ],
      "source": [
        "a = [1, 2]\n",
        "b = [\"Uno\", \"Dos\"]\n",
        "\n",
        "c = zip(a, b)\n",
        "\n",
        "#como se puede ver , zip no crea una nueva lista, devuelve una estructura que itera entre ambas\n",
        "\n",
        "a.insert(3,3)\n",
        "b.insert(3,\"tres\")\n",
        "\n",
        "\n",
        "print(list(c))"
      ]
    },
    {
      "cell_type": "markdown",
      "metadata": {
        "id": "yz7OOIqPSPaN"
      },
      "source": [
        "### Ejercicio 3\n",
        "Implemente una función que a partir de la lista que recibe cómo parámetro, retorne una nueva lista sin elementos repetidos. Compruebe su correcto funcionamiento."
      ]
    },
    {
      "cell_type": "code",
      "execution_count": null,
      "metadata": {
        "colab": {
          "base_uri": "https://localhost:8080/"
        },
        "id": "qLRUVx5gSceV",
        "outputId": "4150ddb9-f7a5-4f1d-936a-7671edc42768"
      },
      "outputs": [
        {
          "ename": "",
          "evalue": "",
          "output_type": "error",
          "traceback": [
            "\u001b[1;31mRunning cells with 'Python 3.12.4' requires the ipykernel package.\n",
            "\u001b[1;31mRun the following command to install 'ipykernel' into the Python environment. \n",
            "\u001b[1;31mCommand: '/bin/python -m pip install ipykernel -U --user --force-reinstall'"
          ]
        }
      ],
      "source": [
        "#se me ocurren varias maneras. Convirtiendo a set y despues a lista de nuevo.\n",
        "def implementacion1(lista):\n",
        "  return(list(set(lista)))\n",
        "\n",
        "def implementacion2(lista):\n",
        "  listaRet = []\n",
        "\n",
        "  for e in lista:\n",
        "    if e not in listaRet:\n",
        "      listaRet.append(e)\n",
        "\n",
        "  return listaRet\n",
        "\n",
        "a = [2,1,3,2,3,4,5,4,5]\n",
        "print(a)\n",
        "print(implementacion1(a))\n",
        "\n",
        "print(implementacion2(a))"
      ]
    },
    {
      "cell_type": "markdown",
      "metadata": {
        "id": "lBmXis45Zj6l"
      },
      "source": [
        "### Ejercicio 4\n",
        "Implemente una función que calcule la distancia entre 2 puntos (2D). Utilice la unción sqrt del paquete math para implementarla y compruebe el correcto funcionamiento de la misma."
      ]
    },
    {
      "cell_type": "code",
      "execution_count": null,
      "metadata": {
        "colab": {
          "base_uri": "https://localhost:8080/"
        },
        "id": "SLagbVQ4ZjPk",
        "outputId": "045bcfd7-ca79-4029-c1c4-776fb4cc22a8"
      },
      "outputs": [
        {
          "ename": "",
          "evalue": "",
          "output_type": "error",
          "traceback": [
            "\u001b[1;31mRunning cells with 'Python 3.12.4' requires the ipykernel package.\n",
            "\u001b[1;31mRun the following command to install 'ipykernel' into the Python environment. \n",
            "\u001b[1;31mCommand: '/bin/python -m pip install ipykernel -U --user --force-reinstall'"
          ]
        }
      ],
      "source": [
        "import math\n",
        "\n",
        "def distanciaEntrePuntos(P1X,P1Y,P2X,P2Y):\n",
        "  distX = P1X - P2X\n",
        "  distY = P1Y - P2Y\n",
        "  return math.sqrt(math.pow(distX,2) + math.pow(distY,2))\n",
        "\n",
        "print(\"distancia(-5,4)(-3,6): \", distanciaEntrePuntos(-5,4,-3,6))"
      ]
    },
    {
      "cell_type": "markdown",
      "metadata": {
        "id": "Qr4P92owbtMd"
      },
      "source": [
        "### Ejercicio 5\n",
        "Investigue y escriba código que demuestre el funcionamiento de los “slices” en listas."
      ]
    },
    {
      "cell_type": "code",
      "execution_count": null,
      "metadata": {
        "colab": {
          "base_uri": "https://localhost:8080/"
        },
        "id": "lHk1QAD-bs5x",
        "outputId": "8d8c9cd9-532f-4539-a428-eb10e1293bdd"
      },
      "outputs": [
        {
          "ename": "",
          "evalue": "",
          "output_type": "error",
          "traceback": [
            "\u001b[1;31mRunning cells with 'Python 3.12.4' requires the ipykernel package.\n",
            "\u001b[1;31mRun the following command to install 'ipykernel' into the Python environment. \n",
            "\u001b[1;31mCommand: '/bin/python -m pip install ipykernel -U --user --force-reinstall'"
          ]
        }
      ],
      "source": [
        "lista = [1,2,3,4,5,6,7,8,9,10]\n",
        "print(lista[::]) #recorre la lista desde el primer al ultimo elemento normalmente\n",
        "print(lista[::2]) #recorre la lista salteandose de a 1\n",
        "print(lista[::-1]) #recorre la lista al reves\n",
        "print(lista[::-3]) #recorre la lista al reves y salteando de a 2\n",
        "print(lista[:2:1]) #toma los dos primeros elementos\n",
        "print(lista[-2::1]) #toma los dos ultimos elementos\n",
        "print(lista[1:5:2]) #recorro de a 2 los eleementos desde el 1 hasta el 5(no inclusive, actualy 4)"
      ]
    },
    {
      "cell_type": "markdown",
      "metadata": {
        "id": "73mngO8x2I-8"
      },
      "source": [
        "## Biblioteca Numpy\n",
        "Numpy es una biblioteca especializada para cálculo numérico y análisis de datos. Permite representar, a través del tipo de datos array, colecciones de datos homogéneos (mismo tipo) en múltiples\n",
        "dimensiones y provee funciones eficientes para su manipulación. Para una referencia rápida puede acceder al video:\n",
        "https://www.youtube.com/watch?v=WxJr143Os-A"
      ]
    },
    {
      "cell_type": "code",
      "execution_count": null,
      "metadata": {
        "colab": {
          "base_uri": "https://localhost:8080/"
        },
        "id": "z8L1KZGB2jN6",
        "outputId": "f4e3397b-15f7-4557-c00a-c3ea30320625"
      },
      "outputs": [
        {
          "ename": "",
          "evalue": "",
          "output_type": "error",
          "traceback": [
            "\u001b[1;31mRunning cells with 'Python 3.12.4' requires the ipykernel package.\n",
            "\u001b[1;31mRun the following command to install 'ipykernel' into the Python environment. \n",
            "\u001b[1;31mCommand: '/bin/python -m pip install ipykernel -U --user --force-reinstall'"
          ]
        }
      ],
      "source": [
        "#midiendo que numpy usa menos memoria que los arreglos por defecto de python\n",
        "import sys\n",
        "import numpy as np\n",
        "\n",
        "S=range(1000)\n",
        "print(\"resultado lista python: \",end=\"\")\n",
        "print(sys.getsizeof(5)*len(S))\n",
        "print()\n",
        "\n",
        "D = np.arange(1000)\n",
        "print('resultado numpy array: ',end=\"\")\n",
        "print(D.size*D.itemsize)"
      ]
    },
    {
      "cell_type": "code",
      "execution_count": null,
      "metadata": {
        "colab": {
          "base_uri": "https://localhost:8080/"
        },
        "id": "H38a1H4t3Rst",
        "outputId": "d3bfbe2b-957a-43dc-87b8-1be48bad22a7"
      },
      "outputs": [
        {
          "ename": "",
          "evalue": "",
          "output_type": "error",
          "traceback": [
            "\u001b[1;31mRunning cells with 'Python 3.12.4' requires the ipykernel package.\n",
            "\u001b[1;31mRun the following command to install 'ipykernel' into the Python environment. \n",
            "\u001b[1;31mCommand: '/bin/python -m pip install ipykernel -U --user --force-reinstall'"
          ]
        }
      ],
      "source": [
        "#midiendo que numpy es mas rapido que los arreglos por defecto en python\n",
        "import time\n",
        "\n",
        "SIZE = 1000000\n",
        "L1 = range(SIZE)\n",
        "L2= range(SIZE)\n",
        "A1 = np.arange(SIZE)\n",
        "A2 = np.arange(SIZE)\n",
        "\n",
        "start= time.time()\n",
        "\n",
        "result=[x+y for x,y in zip(L1,L2)]\n",
        "print(\"tiempo lista python\")\n",
        "print((time.time()-start) * 1000)\n",
        "start=time.time()\n",
        "result = A1+A2\n",
        "print(\"tiempo numpy array:\")\n",
        "print((time.time()-start) * 1000)\n",
        "\n",
        "#es mas o menos 4 veces mas rapido"
      ]
    },
    {
      "cell_type": "markdown",
      "metadata": {
        "id": "XAlkqhr3_ki5"
      },
      "source": [
        "º### Ejercicio 1\n",
        "Practique la creación de vectores, matrices y tensores y responda:\n",
        "\n",
        "● ¿Qué diferencias hay entre los constructores, array, empty, full, zeros, ones, identity?\n",
        "\n",
        "● ¿Qué tipos de datos pueden utilizarse? ¿En qué se diferencian? ¿Cuál es el tipo que se toma por\n",
        "defecto?¿Es siempre el mismo?\n",
        "\n",
        "● ¿Qué funciones se pueden utilizar para generar arreglos con números aleatorios?\n",
        "\n",
        "\n",
        "---\n",
        "\n",
        "\n",
        "fuentes:\n",
        "\n",
        "*   https://joserzapata.github.io/courses/python-ciencia-datos/numpy/\n",
        "*   https://numpy.org/doc/stable/user/quickstart.html\n",
        "---\n"
      ]
    },
    {
      "cell_type": "markdown",
      "metadata": {
        "id": "rF-8LcRAF-gJ"
      },
      "source": [
        "\n",
        "### constructores:"
      ]
    },
    {
      "cell_type": "code",
      "execution_count": null,
      "metadata": {
        "colab": {
          "base_uri": "https://localhost:8080/"
        },
        "collapsed": true,
        "id": "4FdsFs0Z_meW",
        "outputId": "f8f2a93a-d653-468e-deae-d5eed9038311"
      },
      "outputs": [
        {
          "ename": "",
          "evalue": "",
          "output_type": "error",
          "traceback": [
            "\u001b[1;31mRunning cells with 'Python 3.12.4' requires the ipykernel package.\n",
            "\u001b[1;31mRun the following command to install 'ipykernel' into the Python environment. \n",
            "\u001b[1;31mCommand: '/bin/python -m pip install ipykernel -U --user --force-reinstall'"
          ]
        }
      ],
      "source": [
        "import numpy as np\n",
        "\n",
        "#array convierte una lista de python en un arreglo de numpy\n",
        "npArray = np.array([1,2,3])\n",
        "print(npArray)\n",
        "print(type(npArray[0]))\n",
        "print()\n",
        "\n",
        "#empty:\n",
        "npEmpty = np.empty(3)\n",
        "print(npEmpty) #empty no inicializa los valores del arreglo , y puede ser un poco mas rapido que los que si lo hacen (cono zero ù ones)\n",
        "print()\n",
        "\n",
        "#full\n",
        "npFull = np.full((2,2),33)\n",
        "print(npFull) #full inicializa todos los valores del arreglo con el numero que le proporcionamos\n",
        "print()\n",
        "\n",
        "#zeros\n",
        "npZeros = np.zeros((2,2))\n",
        "print(type(npZeros[0][0]))\n",
        "print(npZeros) #zero inicializa todos en cero\n",
        "print()\n",
        "\n",
        "#zeros\n",
        "npZeros = np.zeros((2,2),dtype= np.uint64) #se puede elegir el tipo de dato que va a tener el array\n",
        "print(type(npZeros[0][0]))\n",
        "print(npZeros) #zero inicializa todos en cero\n",
        "print()\n",
        "\n",
        "#ones\n",
        "npOnes = np.ones((2,2))\n",
        "print(npOnes) #zero inicializa todos en cero\n",
        "print()\n",
        "\n",
        "#identity\n",
        "npIdentidad = np.identity(4)\n",
        "print(npIdentidad) #crea una matriz identidad\n",
        "print()\n"
      ]
    },
    {
      "cell_type": "markdown",
      "metadata": {
        "id": "TIf20u5wED1H"
      },
      "source": [
        "el tipo de datos del arreglo debe ser siempre el mismo, se puede elegir entre los tipos de dato standard de python , y los tipos de numpy:\n",
        "numpy.int32, numpy.int16, y numpy.float64 , por ejemplo.\n",
        "\n",
        "se pueden usar:\n",
        "bool,enteros,naturales,punto flotante, y complejos\n",
        "\n",
        "\n",
        "aparentemente el tipo de dato por defecto era numpy.float64.\n",
        "\n",
        "### numeros aleatorios:\n"
      ]
    },
    {
      "cell_type": "code",
      "execution_count": null,
      "metadata": {
        "colab": {
          "base_uri": "https://localhost:8080/"
        },
        "id": "ztO0dMdAFwNR",
        "outputId": "ed31e7bc-a704-4aaf-c287-1b2ac0fea14d"
      },
      "outputs": [
        {
          "ename": "",
          "evalue": "",
          "output_type": "error",
          "traceback": [
            "\u001b[1;31mRunning cells with 'Python 3.12.4' requires the ipykernel package.\n",
            "\u001b[1;31mRun the following command to install 'ipykernel' into the Python environment. \n",
            "\u001b[1;31mCommand: '/bin/python -m pip install ipykernel -U --user --force-reinstall'"
          ]
        }
      ],
      "source": [
        "import numpy as np\n",
        "\n",
        "#rand\n",
        "#Crea un arreglo de la forma dada y rellenela con muestras aleatorias de una distribución uniforme sobre [0, 1)\n",
        "\n",
        "print(np.random.rand(5,5))\n"
      ]
    },
    {
      "cell_type": "code",
      "execution_count": null,
      "metadata": {
        "colab": {
          "base_uri": "https://localhost:8080/"
        },
        "id": "En-XcsuRGRau",
        "outputId": "eaab09d2-0d72-4ef5-be51-6e2cf5dda243"
      },
      "outputs": [
        {
          "ename": "",
          "evalue": "",
          "output_type": "error",
          "traceback": [
            "\u001b[1;31mRunning cells with 'Python 3.12.4' requires the ipykernel package.\n",
            "\u001b[1;31mRun the following command to install 'ipykernel' into the Python environment. \n",
            "\u001b[1;31mCommand: '/bin/python -m pip install ipykernel -U --user --force-reinstall'"
          ]
        }
      ],
      "source": [
        "import numpy as np\n",
        "\n",
        "#randn\n",
        "#Devuelve una muestra (o muestras) de la distribución “estándar normal”. A diferencia del rand que es uniforme:\n",
        "\n",
        "print(np.random.randn(5,5))"
      ]
    },
    {
      "cell_type": "code",
      "execution_count": null,
      "metadata": {
        "colab": {
          "base_uri": "https://localhost:8080/"
        },
        "id": "GC9cuu7SGhLf",
        "outputId": "3dfd5199-fa97-496c-a8fe-7265703632c5"
      },
      "outputs": [
        {
          "ename": "",
          "evalue": "",
          "output_type": "error",
          "traceback": [
            "\u001b[1;31mRunning cells with 'Python 3.12.4' requires the ipykernel package.\n",
            "\u001b[1;31mRun the following command to install 'ipykernel' into the Python environment. \n",
            "\u001b[1;31mCommand: '/bin/python -m pip install ipykernel -U --user --force-reinstall'"
          ]
        }
      ],
      "source": [
        "import numpy as np\n",
        "\n",
        "#randint\n",
        "#Entrega números enteros aleatorios desde inicio (inclusivo) hasta final (exclusivo).\n",
        "\n",
        "print(np.random.randint(1,100,(5,5)))#genero un arreglo cuadrado de 5x5, con nros aleatorios entre 1 y 99"
      ]
    },
    {
      "cell_type": "markdown",
      "metadata": {
        "id": "Tgc3gnYkhpbK"
      },
      "source": [
        "## Ejercicio 2\n",
        "Investigue y ejemplifique las funciones relacionadas al tamaño de los arrays de Numpy:\n",
        "* ¿Para qué sirven las funciones shape, len, ndim, size?\n",
        "* ¿Qué tipos de datos pueden utilizarse? ¿En qué se diferencian? ¿Cuál es el tipo que se toma por defecto?¿Es siempre el mismo?\n",
        "* ¿Qué funciones se pueden utilizar para generar arreglos con números aleatorios?"
      ]
    },
    {
      "cell_type": "code",
      "execution_count": null,
      "metadata": {
        "colab": {
          "base_uri": "https://localhost:8080/"
        },
        "id": "e-ADAms_hevu",
        "outputId": "7b43ffd9-3239-4c33-e0f1-29a6e3b35a80"
      },
      "outputs": [
        {
          "ename": "",
          "evalue": "",
          "output_type": "error",
          "traceback": [
            "\u001b[1;31mRunning cells with 'Python 3.12.4' requires the ipykernel package.\n",
            "\u001b[1;31mRun the following command to install 'ipykernel' into the Python environment. \n",
            "\u001b[1;31mCommand: '/bin/python -m pip install ipykernel -U --user --force-reinstall'"
          ]
        }
      ],
      "source": [
        "import numpy as np\n",
        "\n",
        "#shape: retorna el tamaño de un array\n",
        "#len: devuelve el valor del tamaño del primer indice del arreglo\n",
        "#ndim: numero de dimensiones del arreglo\n",
        "#size: numero de elementos del arreglo\n",
        "\n",
        "a = np.array([1,2,3])\n",
        "print(\"shape de\", a , \" : \" , np.shape(a))\n",
        "print(\"len:\",len(a))\n",
        "print(\"ndim:\",a.ndim)\n",
        "print(\"size:\",a.size)\n",
        "print()\n",
        "\n",
        "a = np.array([[1,2,3],[1,2,3]])\n",
        "print(\"shape de \\n\", a , np.shape(a))\n",
        "print(\"len:\",len(a))\n",
        "print(\"ndim:\",a.ndim)\n",
        "print(\"size:\",a.size)\n",
        "print(\"x:\",np.shape(a)[0])\n",
        "print(\"y:\",np.shape(a)[1])\n",
        "print()\n",
        "print()\n",
        "\n",
        "a= np.ones((3,3,3))\n",
        "print(\"shape de \\n\", a , np.shape(a))\n",
        "print(\"len:\",len(a))\n",
        "print(\"ndim:\",a.ndim)\n",
        "print(\"size:\",a.size)\n",
        "print(\"x:\",np.shape(a)[0])\n",
        "print(\"y:\",np.shape(a)[1])\n",
        "print()\n",
        "a = np.array([[1,2,3]])\n",
        "print(\"shape de \\n\", a , np.shape(a))\n",
        "print(\"len:\",len(a))\n",
        "print(\"ndim:\",a.ndim)\n",
        "print(\"size:\",a.size)\n",
        "\n",
        "\n",
        "print()\n",
        "\n"
      ]
    },
    {
      "cell_type": "markdown",
      "metadata": {},
      "source": [
        "### Ejercicio 3\n",
        "* Practique funciones de agregación (sum, min, max, etc.) sobre vectores, matrices y tensores. Enumere y pruebe todas las funciones que encuentre y responda:\n",
        "* ¿Estas funciones se aplican a todos los datos del array o pueden realizarse sobre dimensiones particulares? Ejemplifique"
      ]
    },
    {
      "cell_type": "code",
      "execution_count": null,
      "metadata": {},
      "outputs": [
        {
          "ename": "",
          "evalue": "",
          "output_type": "error",
          "traceback": [
            "\u001b[1;31mRunning cells with 'Python 3.12.4' requires the ipykernel package.\n",
            "\u001b[1;31mRun the following command to install 'ipykernel' into the Python environment. \n",
            "\u001b[1;31mCommand: '/bin/python -m pip install ipykernel -U --user --force-reinstall'"
          ]
        }
      ],
      "source": [
        "import numpy as np # type: ignore\n",
        "\n",
        "mx = np.array([[1,2,3],[4,5,6],[7,8,9]])\n",
        "print(mx)\n",
        "\n",
        "#sum\n",
        "print()\n",
        "print(\"sum:\",np.sum(mx))\n",
        "\n",
        "#min\n",
        "print(\"min:\",np.min(mx))\n",
        "\n",
        "#max\n",
        "print(\"max:\",np.max(mx))\n",
        "\n",
        "#cumsum\n",
        "print(\"cumsum:\",np.cumsum(mx))\n",
        "\n",
        "\n",
        "#mean\n",
        "print(\"mean:\",np.mean(mx))\n",
        "\n",
        "#average\n",
        "print(\"average:\",np.average(mx))\n",
        "\n",
        "#puedo aplicar a una dimension particular utilizando:\n",
        "\n",
        "#min\n",
        "print(\"min:\",np.min(mx,axis=0)) #si uso axis 0 , hace el menor de cada columna\n",
        "print(\"min:\",np.min(mx,axis=1)) #si uso axis 1 , hace el menor de cada fila\n"
      ]
    },
    {
      "cell_type": "markdown",
      "metadata": {},
      "source": [
        "### Ejercicio 4\n",
        "Investigue y realice ejemplos que utilicen funciones para manipular elementos de arreglos (append, insert, delete, etc.) y arreglos entre sí (vstack, hstack, contacenate, etc.)"
      ]
    },
    {
      "cell_type": "code",
      "execution_count": null,
      "metadata": {},
      "outputs": [
        {
          "ename": "",
          "evalue": "",
          "output_type": "error",
          "traceback": [
            "\u001b[1;31mRunning cells with 'Python 3.12.4' requires the ipykernel package.\n",
            "\u001b[1;31mRun the following command to install 'ipykernel' into the Python environment. \n",
            "\u001b[1;31mCommand: '/bin/python -m pip install ipykernel -U --user --force-reinstall'"
          ]
        }
      ],
      "source": [
        "import numpy as np # type: ignore\n",
        "\n",
        "#append inserta un elemento al final de la lista\n",
        "\n",
        "mx = np.array([[1,2,3],[4,5,6],[7,8,9]])    \n",
        "print(np.append(mx, [[17,18,19]],axis=0))"
      ]
    },
    {
      "cell_type": "code",
      "execution_count": null,
      "metadata": {},
      "outputs": [
        {
          "ename": "",
          "evalue": "",
          "output_type": "error",
          "traceback": [
            "\u001b[1;31mRunning cells with 'Python 3.12.4' requires the ipykernel package.\n",
            "\u001b[1;31mRun the following command to install 'ipykernel' into the Python environment. \n",
            "\u001b[1;31mCommand: '/bin/python -m pip install ipykernel -U --user --force-reinstall'"
          ]
        }
      ],
      "source": [
        "import numpy as np\n",
        "a = np.arange(9).reshape(3,3)\n",
        "a\n",
        "#inserta elementos en el indice especificado.\n",
        "#si trato con una matriz y no \n",
        "print(np.insert(a,1,1)) #si no especifico axis, se transforma en lista la matriz\n",
        "print()\n",
        "print(np.insert(a,0,[1,2,3],axis=0)) #si especifico el axis no se transforma\n",
        "print()\n",
        "print(np.insert(a,1,1,axis=0)) #si ingreso un solo numero como valor, se gneera una \n",
        "print()\n",
        "\n",
        "print(a)"
      ]
    },
    {
      "cell_type": "code",
      "execution_count": null,
      "metadata": {},
      "outputs": [
        {
          "ename": "",
          "evalue": "",
          "output_type": "error",
          "traceback": [
            "\u001b[1;31mRunning cells with 'Python 3.12.4' requires the ipykernel package.\n",
            "\u001b[1;31mRun the following command to install 'ipykernel' into the Python environment. \n",
            "\u001b[1;31mCommand: '/bin/python -m pip install ipykernel -U --user --force-reinstall'"
          ]
        }
      ],
      "source": [
        "import numpy as np\n",
        "#delete\n",
        "\n",
        "a = np.array([[1,2,3,4],[1,2,3,4]])\n",
        "\n",
        "print(a)\n",
        "\n",
        "print()\n",
        "print(np.delete(a,1)) #elimino el elemento en la pos. 1, pero trato la matriz como array\n",
        "print()\n",
        "print(np.delete(a,1,1)) #elimino la columna 1\n",
        "print()\n",
        "print(np.delete(a,1,0)) #elimino la fila 1\n",
        "\n"
      ]
    },
    {
      "cell_type": "markdown",
      "metadata": {},
      "source": [
        "### vstack, hstack, contacenate"
      ]
    },
    {
      "cell_type": "code",
      "execution_count": null,
      "metadata": {},
      "outputs": [
        {
          "ename": "",
          "evalue": "",
          "output_type": "error",
          "traceback": [
            "\u001b[1;31mRunning cells with 'Python 3.12.4' requires the ipykernel package.\n",
            "\u001b[1;31mRun the following command to install 'ipykernel' into the Python environment. \n",
            "\u001b[1;31mCommand: '/bin/python -m pip install ipykernel -U --user --force-reinstall'"
          ]
        }
      ],
      "source": [
        "#vstack\n",
        "import numpy as np\n"
      ]
    },
    {
      "cell_type": "markdown",
      "metadata": {},
      "source": [
        "# panda\n",
        "\n",
        "\n",
        "Investigue el funcionamiento del Dataframe de  Pandas y cree uno con la información de la siguiente tabla:\n",
        "\n",
        "Nombre | Edad | Pais\n",
        "\n",
        "Juan     20     Argentina\n",
        "\n",
        "María    26     Peru\n",
        "\n",
        "Pedro    18     Brasil\n",
        "\n",
        "José     22     Chile"
      ]
    },
    {
      "cell_type": "code",
      "execution_count": 1,
      "metadata": {},
      "outputs": [
        {
          "name": "stdout",
          "output_type": "stream",
          "text": [
            "Nombre, Edad, Pais, \n",
            "\n",
            "tabla con nuevo pablo:\n",
            "  Nombre  Edad       Pais\n",
            "0   Juan    20  Argentina\n",
            "1  Maria    26       Peru\n",
            "2  pedro    18     Brasil\n",
            "3   jose    22      chile\n",
            "4  Pablo    30   Colombia\n",
            "\n",
            "tabla con nuevo pablo:\n",
            "  Nombre  Edad       Pais\n",
            "0   Juan    20  Argentina\n",
            "1  Maria    26       Peru\n",
            "2  pedro    18     Brasil\n",
            "3   jose    22      chile\n",
            "4  Pablo    30   Colombia\n",
            "5  Pablo    30   Colombia\n",
            "\n",
            "tabla sin pablo repetido:   Nombre  Edad       Pais\n",
            "0   Juan    20  Argentina\n",
            "1  Maria    26       Peru\n",
            "2  pedro    18     Brasil\n",
            "3   jose    22      chile\n",
            "4  Pablo    30   Colombia\n",
            "5  Pablo    30   Colombia\n",
            "  Nombre  Edad       Pais\n",
            "0   Juan    20  Argentina\n",
            "1  Maria    26       Peru\n",
            "2  pedro    18     Brasil\n",
            "3   jose    22      chile\n",
            "4  Pablo    30   Colombia\n",
            "  Nombre  Edad       Pais\n",
            "0   Juan    20  Argentina\n",
            "1  Maria    26       Perú\n",
            "2  pedro    18     Brasil\n",
            "3   jose    22      chile\n",
            "4  Pablo    30   Colombia\n",
            "5  Pablo    30   Colombia\n"
          ]
        }
      ],
      "source": [
        "\n",
        "import pandas as pd\n",
        "data = {\n",
        "    'Nombre': ['Juan', 'Maria', 'pedro', 'jose'],\n",
        "    'Edad': [20, 26, 18, 22],\n",
        "    'Pais': ['Argentina', 'Peru', 'Brasil', 'chile']\n",
        "}\n",
        "\n",
        "df = pd.DataFrame(data)\n",
        "cols = df.columns\n",
        "for col in cols:\n",
        "    print(col, end=\", \")\n",
        "print( )\n",
        "\n",
        "#Agregar a la tabla a Pablo que tiene 30 años y es originario de Colombia. \n",
        "# Agregarlo de 2 formas diferentes.\n",
        "\n",
        "#una manera creando un DF de la nueva fila, y concatenandolas:\n",
        "print(\"\\ntabla con nuevo pablo:\",)\n",
        "\n",
        "nueva_fila = pd.DataFrame([['Pablo', 30 , 'Colombia']], columns=df.columns)\n",
        "df = pd.concat([df,nueva_fila],ignore_index=True)\n",
        "print(df)\n",
        "\n",
        "\n",
        "#otra es usar loc, con el elemento ultimo de la lista + 1, y seteando los nuevos valores\n",
        "#asi creando el nuevo elemento\n",
        "print(\"\\ntabla con nuevo pablo:\",)\n",
        "df.loc[len(df)] = ['Pablo', 30, 'Colombia']\n",
        "print(df)\n",
        "\n",
        "\n",
        "#Eliminar de la tabla al pablo repetido\n",
        "\n",
        "print(\"\\ntabla sin pablo repetido:\",df,end=\"\\n\")\n",
        "\n",
        "print(df.drop_duplicates(subset=['Nombre']))\n",
        "\n",
        "\n",
        "#odificar los atributos de países que dicen “Peru” (sin acento) \n",
        "# y reemplazarlos por “Perú” (con acento).\n",
        "\n",
        "print(df.replace({\"Peru\":\"Perú\"}))\n",
        "\n",
        "#exportar a archio separado por tabs\n",
        "archivo = 'data.csv'\n",
        "df.to_csv(archivo, sep='\\t', index=False)\n",
        "\n",
        "#archivo con separación por delimitadores (punto y coma como separador).\n",
        "archivo = 'data.csv'\n",
        "df.to_csv(archivo, sep=';', index=False)\n",
        "\n",
        "#archivo excel.\n",
        "df.to_excel('data.xlsx')\n",
        "\n",
        "#archivo json.\n",
        "df.to_json('data.json',indent=1)#le doy identacion asi se lee mejor."
      ]
    }
  ],
  "metadata": {
    "colab": {
      "collapsed_sections": [
        "AhZK7OLb2Bp6",
        "rF-8LcRAF-gJ"
      ],
      "provenance": []
    },
    "kernelspec": {
      "display_name": "Python 3",
      "name": "python3"
    },
    "language_info": {
      "codemirror_mode": {
        "name": "ipython",
        "version": 3
      },
      "file_extension": ".py",
      "mimetype": "text/x-python",
      "name": "python",
      "nbconvert_exporter": "python",
      "pygments_lexer": "ipython3",
      "version": "3.12.4"
    }
  },
  "nbformat": 4,
  "nbformat_minor": 0
}
